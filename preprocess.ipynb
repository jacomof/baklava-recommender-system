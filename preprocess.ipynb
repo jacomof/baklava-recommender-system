{
 "cells": [
  {
   "cell_type": "code",
   "execution_count": 2,
   "metadata": {},
   "outputs": [],
   "source": [
    "import networkx as nx\n",
    "import os"
   ]
  },
  {
   "cell_type": "code",
   "execution_count": 5,
   "metadata": {},
   "outputs": [],
   "source": [
    "def read_pajek(filename, label_parser = None):\n",
    "\n",
    "    \"\"\"\n",
    "    Read a Pajek format file (.net) and create a NetworkX graph.\n",
    "\n",
    "    Parameters:\n",
    "    -----------\n",
    "    filename : str\n",
    "        The name of the Pajek file (without extension) to be read.\n",
    "\n",
    "    data_folder : str\n",
    "        The path to the folder containing the Pajek file.\n",
    "\n",
    "    label_parser : Callable[[str, str], Dict[str, Any]], optional\n",
    "        A function used to parse node labels and values from the Pajek file.\n",
    "        If not specified, a default label_parser function is used.\n",
    "\n",
    "    Returns:\n",
    "    --------\n",
    "    G : nx.Graph\n",
    "        A NetworkX graph representing the structure defined in the Pajek file.\"\"\"\n",
    "        \n",
    "    filename = os.path.splitext(filename)[0]\n",
    "\n",
    "    if label_parser is None:\n",
    "        def label_parser(lab, val): return \\\n",
    "            {\"label\": lab} if val is None else {\"label\": lab, \"value\": val}\n",
    "\n",
    "    with open(os.path.join(\"networks/\",  f\"{filename}.net\"), encoding=\"UTF-8\") as file:\n",
    "        file.readline()\n",
    "        nodes = []\n",
    "\n",
    "        for line in file:\n",
    "            if line.startswith(\"*\"):\n",
    "                match line.split()[0][1:]:\n",
    "                    case \"edges\": G = nx.MultiGraph(name=filename)\n",
    "                    case \"arcs\": G = nx.MultiDiGraph(name=filename)\n",
    "                    case link_type: raise SyntaxError(f\"invalid link type: {link_type}\")\n",
    "                break\n",
    "            else: # add node\n",
    "                match line.strip().split(\"\\\"\"):\n",
    "                    case num, lab:\n",
    "                        nodes.append((int(num) - 1, label_parser(lab, None)))\n",
    "                    case num, lab, val:\n",
    "                        nodes.append((int(num) - 1, label_parser(lab, val)))\n",
    "                    case _:\n",
    "                        raise SyntaxError(\"failed to parse \" + line)\n",
    "\n",
    "        G.add_nodes_from(nodes)\n",
    "\n",
    "        for line in file:\n",
    "            i, j = (int(x) - 1 for x in line.split()[:2])\n",
    "            G.add_edge(i, j)\n",
    "\n",
    "    return G"
   ]
  },
  {
   "cell_type": "code",
   "execution_count": 7,
   "metadata": {},
   "outputs": [],
   "source": [
    "G = read_pajek(\"movies_graph.net\")"
   ]
  },
  {
   "cell_type": "code",
   "execution_count": 10,
   "metadata": {},
   "outputs": [
    {
     "ename": "AttributeError",
     "evalue": "'MultiGraph' object has no attribute 'in_degree'",
     "output_type": "error",
     "traceback": [
      "\u001b[1;31m---------------------------------------------------------------------------\u001b[0m",
      "\u001b[1;31mAttributeError\u001b[0m                            Traceback (most recent call last)",
      "Cell \u001b[1;32mIn[10], line 1\u001b[0m\n\u001b[1;32m----> 1\u001b[0m zero_degree_nodes \u001b[38;5;241m=\u001b[39m [node \u001b[38;5;28;01mfor\u001b[39;00m node, degree \u001b[38;5;129;01min\u001b[39;00m \u001b[43mG\u001b[49m\u001b[38;5;241;43m.\u001b[39;49m\u001b[43min_degree\u001b[49m() \u001b[38;5;28;01mif\u001b[39;00m degree \u001b[38;5;241m==\u001b[39m \u001b[38;5;241m0\u001b[39m]\n",
      "\u001b[1;31mAttributeError\u001b[0m: 'MultiGraph' object has no attribute 'in_degree'"
     ]
    }
   ],
   "source": [
    "zero_degree_nodes = [node for node, degree in G.in_degree() if degree == 0]"
   ]
  },
  {
   "cell_type": "code",
   "execution_count": 9,
   "metadata": {},
   "outputs": [
    {
     "ename": "IndexError",
     "evalue": "list index out of range",
     "output_type": "error",
     "traceback": [
      "\u001b[1;31m---------------------------------------------------------------------------\u001b[0m",
      "\u001b[1;31mIndexError\u001b[0m                                Traceback (most recent call last)",
      "Cell \u001b[1;32mIn[9], line 1\u001b[0m\n\u001b[1;32m----> 1\u001b[0m nx\u001b[38;5;241m.\u001b[39mdfs_successors(G, source\u001b[38;5;241m=\u001b[39m\u001b[43mzero_degree_nodes\u001b[49m\u001b[43m[\u001b[49m\u001b[38;5;241;43m0\u001b[39;49m\u001b[43m]\u001b[49m)\n",
      "\u001b[1;31mIndexError\u001b[0m: list index out of range"
     ]
    }
   ],
   "source": [
    "nx.dfs_successors(G, source=zero_degree_nodes[0])"
   ]
  }
 ],
 "metadata": {
  "kernelspec": {
   "display_name": "hackathon",
   "language": "python",
   "name": "python3"
  },
  "language_info": {
   "codemirror_mode": {
    "name": "ipython",
    "version": 3
   },
   "file_extension": ".py",
   "mimetype": "text/x-python",
   "name": "python",
   "nbconvert_exporter": "python",
   "pygments_lexer": "ipython3",
   "version": "3.10.14"
  }
 },
 "nbformat": 4,
 "nbformat_minor": 2
}
